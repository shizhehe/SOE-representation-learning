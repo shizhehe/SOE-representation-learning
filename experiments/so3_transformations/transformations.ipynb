{
 "cells": [
  {
   "cell_type": "code",
   "execution_count": 1,
   "metadata": {},
   "outputs": [
    {
     "name": "stdout",
     "output_type": "stream",
     "text": [
      "BART toolbox not setup properly or not available\n"
     ]
    }
   ],
   "source": [
    "import numpy as np\n",
    "import matplotlib.pyplot as plt\n",
    "import pandas as pd\n",
    "\n",
    "import os\n",
    "import glob\n",
    "import nibabel as nib\n",
    "from datetime import datetime\n",
    "import random\n",
    "import pdb\n",
    "\n",
    "import medutils\n",
    "\n",
    "import torch\n",
    "\n",
    "import torch\n",
    "from torch.nn import Linear\n",
    "from torch.nn.functional import relu\n",
    "from torch.nn.init import eye_\n",
    "\n",
    "from vn_layers import *"
   ]
  },
  {
   "attachments": {},
   "cell_type": "markdown",
   "metadata": {},
   "source": [
    "### Load Data and Images"
   ]
  },
  {
   "cell_type": "code",
   "execution_count": 2,
   "metadata": {},
   "outputs": [
    {
     "data": {
      "text/plain": [
       "['/Users/shizhehe/dev/research/vector_neurons_mri/vnn/data/other/002_S_0295-2006-04-18_08_20_30.0.nii.gz']"
      ]
     },
     "execution_count": 2,
     "metadata": {},
     "output_type": "execute_result"
    }
   ],
   "source": [
    "csv_path_raw = '/Users/shizhehe/dev/research/vector_neurons_mri/vnn/data/other/ADNIMERGE.csv'  # label for each timepoint (CN, AD, Demantia, MCI, LMCI, EMCI)\n",
    "data_path = '/Users/shizhehe/dev/research/vector_neurons_mri/vnn/data/other/'\n",
    "df = pd.read_csv(csv_path_raw, usecols=['PTID', 'DX_bl', 'DX', 'EXAMDATE', 'AGE'])\n",
    "#df = pd.read_csv(csv_path_raw)\n",
    "\n",
    "img_paths = glob.glob(data_path + '*.nii.gz')\n",
    "img_paths = sorted(img_paths)\n",
    "img_paths"
   ]
  },
  {
   "cell_type": "code",
   "execution_count": 3,
   "metadata": {},
   "outputs": [
    {
     "data": {
      "text/html": [
       "<div>\n",
       "<style scoped>\n",
       "    .dataframe tbody tr th:only-of-type {\n",
       "        vertical-align: middle;\n",
       "    }\n",
       "\n",
       "    .dataframe tbody tr th {\n",
       "        vertical-align: top;\n",
       "    }\n",
       "\n",
       "    .dataframe thead th {\n",
       "        text-align: right;\n",
       "    }\n",
       "</style>\n",
       "<table border=\"1\" class=\"dataframe\">\n",
       "  <thead>\n",
       "    <tr style=\"text-align: right;\">\n",
       "      <th></th>\n",
       "      <th>PTID</th>\n",
       "      <th>EXAMDATE</th>\n",
       "      <th>DX_bl</th>\n",
       "      <th>AGE</th>\n",
       "      <th>DX</th>\n",
       "    </tr>\n",
       "  </thead>\n",
       "  <tbody>\n",
       "    <tr>\n",
       "      <th>0</th>\n",
       "      <td>011_S_0002</td>\n",
       "      <td>2005-09-08</td>\n",
       "      <td>CN</td>\n",
       "      <td>74.3</td>\n",
       "      <td>CN</td>\n",
       "    </tr>\n",
       "    <tr>\n",
       "      <th>1</th>\n",
       "      <td>011_S_0003</td>\n",
       "      <td>2005-09-12</td>\n",
       "      <td>AD</td>\n",
       "      <td>81.3</td>\n",
       "      <td>Dementia</td>\n",
       "    </tr>\n",
       "    <tr>\n",
       "      <th>2</th>\n",
       "      <td>011_S_0003</td>\n",
       "      <td>2006-03-13</td>\n",
       "      <td>AD</td>\n",
       "      <td>81.3</td>\n",
       "      <td>Dementia</td>\n",
       "    </tr>\n",
       "    <tr>\n",
       "      <th>3</th>\n",
       "      <td>011_S_0003</td>\n",
       "      <td>2006-09-12</td>\n",
       "      <td>AD</td>\n",
       "      <td>81.3</td>\n",
       "      <td>Dementia</td>\n",
       "    </tr>\n",
       "    <tr>\n",
       "      <th>4</th>\n",
       "      <td>011_S_0003</td>\n",
       "      <td>2007-09-12</td>\n",
       "      <td>AD</td>\n",
       "      <td>81.3</td>\n",
       "      <td>Dementia</td>\n",
       "    </tr>\n",
       "  </tbody>\n",
       "</table>\n",
       "</div>"
      ],
      "text/plain": [
       "         PTID    EXAMDATE DX_bl   AGE        DX\n",
       "0  011_S_0002  2005-09-08    CN  74.3        CN\n",
       "1  011_S_0003  2005-09-12    AD  81.3  Dementia\n",
       "2  011_S_0003  2006-03-13    AD  81.3  Dementia\n",
       "3  011_S_0003  2006-09-12    AD  81.3  Dementia\n",
       "4  011_S_0003  2007-09-12    AD  81.3  Dementia"
      ]
     },
     "execution_count": 3,
     "metadata": {},
     "output_type": "execute_result"
    }
   ],
   "source": [
    "df.head()"
   ]
  },
  {
   "cell_type": "code",
   "execution_count": 4,
   "metadata": {},
   "outputs": [
    {
     "name": "stdout",
     "output_type": "stream",
     "text": [
      "Loading 1 image(s)\n"
     ]
    }
   ],
   "source": [
    "print(\"Loading {} image(s)\".format(len(img_paths)))\n",
    "\n",
    "for img_path in img_paths:\n",
    "    img_nib = nib.load(os.path.join(img_path))\n",
    "    img = img_nib.get_fdata()\n",
    "    #img = (img - np.mean(img)) / np.std(img)\n",
    "    #subj_img.create_dataset(os.path.basename(img_path), data=img)"
   ]
  },
  {
   "cell_type": "code",
   "execution_count": 5,
   "metadata": {},
   "outputs": [
    {
     "data": {
      "image/png": "[encoded data removed]",
      "text/plain": [
       "<Figure size 640x480 with 1 Axes>"
      ]
     },
     "metadata": {},
     "output_type": "display_data"
    }
   ],
   "source": [
    "# ----- visualize volume -----\n",
    "medutils.visualization.show(img[5])\n",
    "#medutils.visualization.show(img)\n",
    "#plt.show()"
   ]
  },
  {
   "attachments": {},
   "cell_type": "markdown",
   "metadata": {},
   "source": [
    "### Prove SO3-Equivariance of layers"
   ]
  },
  {
   "attachments": {},
   "cell_type": "markdown",
   "metadata": {},
   "source": [
    "Sanity check that pytorch linear layer is so3 equivariant, will be using that to check implementations of tranformation. Linear layer is by nature SO3-equivariant, if no bias term"
   ]
  },
  {
   "cell_type": "code",
   "execution_count": 34,
   "metadata": {},
   "outputs": [
    {
     "name": "stdout",
     "output_type": "stream",
     "text": [
      "Linear layer is SO3 equivariant.\n"
     ]
    }
   ],
   "source": [
    "def test_so3_equivariance(layer, name):\n",
    "    # Define a rotation matrix\n",
    "    rotation_matrix = torch.tensor([[1, 0, 0],\n",
    "                                    [0, 0, -1],\n",
    "                                    [0, 1, 0]], dtype=torch.float)\n",
    "\n",
    "    # Define the input data\n",
    "    input_data = torch.tensor([[1, 2, 3],\n",
    "                               [4, 5, 6]], dtype=torch.float)\n",
    "\n",
    "    # Define the linear layer\n",
    "    linear_layer = layer\n",
    "    #linear_layer = Linear(in_features=3, out_features=3, bias=False)\n",
    "    # Initialize the weight matrix of the linear layer\n",
    "    #eye_(linear_layer.weight)\n",
    "\n",
    "    # Apply the rotation to both input and output data\n",
    "    rotated_input = torch.matmul(input_data, rotation_matrix.T)\n",
    "    \n",
    "    rotated_output = layer(rotated_input)\n",
    "\n",
    "    # Apply the rotation only to the input data and pass it through the linear layer\n",
    "    output_after_rotation = torch.matmul(layer(input_data), rotation_matrix.T)\n",
    "\n",
    "    # Compare the results\n",
    "    if torch.allclose(rotated_output, output_after_rotation):\n",
    "        print(f'{name} layer is SO3 equivariant.')\n",
    "    else:\n",
    "        print(f'{name} layer is NOT SO3 equivariant.')\n",
    "\n",
    "# Test the SO3 equivariance of the linear layer\n",
    "linear_layer = Linear(in_features=3, out_features=3, bias=False)\n",
    "eye_(linear_layer.weight)\n",
    "test_so3_equivariance(linear_layer, 'Linear')"
   ]
  },
  {
   "attachments": {},
   "cell_type": "markdown",
   "metadata": {},
   "source": [
    "Test VNN Layer SO3-Equivariance"
   ]
  },
  {
   "cell_type": "code",
   "execution_count": 9,
   "metadata": {},
   "outputs": [
    {
     "name": "stdout",
     "output_type": "stream",
     "text": [
      "tensor([[ 1., -3.,  2.],\n",
      "        [ 4., -6.,  5.]])\n",
      "Linear layer is SO3 equivariant.\n"
     ]
    }
   ],
   "source": [
    "# Test the SO3 equivariance of the VNNlinear layer\n",
    "linear_layer = VNLinear(in_channels=3, out_channels=3)\n",
    "eye_(linear_layer.map_to_feat.weight)\n",
    "test_so3_equivariance(linear_layer, 'Linear')"
   ]
  },
  {
   "cell_type": "code",
   "execution_count": 12,
   "metadata": {},
   "outputs": [],
   "source": [
    "class VNLeakyReLU(nn.Module):\n",
    "    def __init__(self, in_channels, share_nonlinearity=False, negative_slope=0.2):\n",
    "        super(VNLeakyReLU, self).__init__()\n",
    "        if share_nonlinearity == True:\n",
    "            self.map_to_dir = nn.Linear(in_channels, 1, bias=False)\n",
    "        else:\n",
    "            self.map_to_dir = nn.Linear(in_channels, in_channels, bias=False)\n",
    "        self.negative_slope = negative_slope\n",
    "    \n",
    "    def forward(self, x):\n",
    "        '''\n",
    "        x: point features of shape [B, N_feat, 3, N_samples, ...]\n",
    "        '''\n",
    "        d = self.map_to_dir(x.transpose(1,-1)).transpose(1,-1)\n",
    "        dotprod = (x*d).sum(1, keepdim=True) # change to 1 depending on shape\n",
    "        mask = (dotprod >= 0).float()\n",
    "        d_norm_sq = (d*d).sum(1, keepdim=True) # change to 1 depending on shape\n",
    "        x_out = self.negative_slope * x + (1-self.negative_slope) * (mask*x + (1-mask)*(x-(dotprod/(d_norm_sq+EPS))*d))\n",
    "        return x_out"
   ]
  },
  {
   "cell_type": "code",
   "execution_count": 16,
   "metadata": {},
   "outputs": [
    {
     "name": "stdout",
     "output_type": "stream",
     "text": [
      "LeakyReLU layer is SO3 equivariant.\n"
     ]
    }
   ],
   "source": [
    "# Test the SO3 equivariance of LeakyReLU\n",
    "linear_layer = VNLeakyReLU(in_channels=3)\n",
    "eye_(linear_layer.map_to_dir.weight)\n",
    "test_so3_equivariance(linear_layer, 'LeakyReLU')"
   ]
  },
  {
   "cell_type": "code",
   "execution_count": 32,
   "metadata": {},
   "outputs": [],
   "source": [
    "class VNMaxPool(nn.Module):\n",
    "    def __init__(self, in_channels):\n",
    "        super(VNMaxPool, self).__init__()\n",
    "        self.map_to_dir = nn.Linear(in_channels, in_channels, bias=False)\n",
    "    \n",
    "    def forward(self, x):\n",
    "        '''\n",
    "        x: point features of shape [B, N_feat, 3, N_samples, ...]\n",
    "        '''\n",
    "        d = self.map_to_dir(x.transpose(1,-1)).transpose(1,-1)\n",
    "        dotprod = (x*d).sum(1, keepdims=True)\n",
    "        idx = dotprod.max(dim=-1, keepdim=False)[1]\n",
    "        index_tuple = torch.meshgrid([torch.arange(j) for j in x.size()[:-1]]) + (idx,)\n",
    "        x_max = x[index_tuple]\n",
    "        return x_max"
   ]
  },
  {
   "cell_type": "code",
   "execution_count": 35,
   "metadata": {},
   "outputs": [
    {
     "ename": "RuntimeError",
     "evalue": "mat1 and mat2 shapes cannot be multiplied (1x2 and 3x3)",
     "output_type": "error",
     "traceback": [
      "\u001b[0;31m---------------------------------------------------------------------------\u001b[0m",
      "\u001b[0;31mRuntimeError\u001b[0m                              Traceback (most recent call last)",
      "Cell \u001b[0;32mIn[35], line 4\u001b[0m\n\u001b[1;32m      2\u001b[0m max_pool \u001b[39m=\u001b[39m VNMaxPool(in_channels\u001b[39m=\u001b[39m\u001b[39m3\u001b[39m)\n\u001b[1;32m      3\u001b[0m eye_(max_pool\u001b[39m.\u001b[39mmap_to_dir\u001b[39m.\u001b[39mweight)\n\u001b[0;32m----> 4\u001b[0m test_so3_equivariance(max_pool, \u001b[39m'\u001b[39;49m\u001b[39mMax Pooling\u001b[39;49m\u001b[39m'\u001b[39;49m)\n",
      "Cell \u001b[0;32mIn[34], line 23\u001b[0m, in \u001b[0;36mtest_so3_equivariance\u001b[0;34m(layer, name)\u001b[0m\n\u001b[1;32m     20\u001b[0m rotated_output \u001b[39m=\u001b[39m layer(rotated_input)\n\u001b[1;32m     22\u001b[0m \u001b[39m# Apply the rotation only to the input data and pass it through the linear layer\u001b[39;00m\n\u001b[0;32m---> 23\u001b[0m output_after_rotation \u001b[39m=\u001b[39m torch\u001b[39m.\u001b[39;49mmatmul(layer(input_data), rotation_matrix\u001b[39m.\u001b[39;49mT)\n\u001b[1;32m     25\u001b[0m \u001b[39m# Compare the results\u001b[39;00m\n\u001b[1;32m     26\u001b[0m \u001b[39mif\u001b[39;00m torch\u001b[39m.\u001b[39mallclose(rotated_output, output_after_rotation):\n",
      "\u001b[0;31mRuntimeError\u001b[0m: mat1 and mat2 shapes cannot be multiplied (1x2 and 3x3)"
     ]
    }
   ],
   "source": [
    "# Test the SO3 equivariance of the VNMaxPool layer\n",
    "max_pool = VNMaxPool(in_channels=3)\n",
    "eye_(max_pool.map_to_dir.weight)\n",
    "test_so3_equivariance(max_pool, 'Max Pooling')\n",
    "# have to incorporate max pooling shape!!! can try with custom rotate function "
   ]
  },
  {
   "attachments": {},
   "cell_type": "markdown",
   "metadata": {},
   "source": [
    "## Implementation of SO3 Transformations"
   ]
  },
  {
   "attachments": {},
   "cell_type": "markdown",
   "metadata": {},
   "source": [
    "Also write function to reverse, which is simply doing a rotation with the transpose of the rotation matrix"
   ]
  },
  {
   "attachments": {},
   "cell_type": "markdown",
   "metadata": {},
   "source": [
    "Try with 2D transformations first?"
   ]
  },
  {
   "attachments": {},
   "cell_type": "markdown",
   "metadata": {},
   "source": [
    "Implement rotation given a rotation matrix and image/volume to generate new image/volume"
   ]
  },
  {
   "attachments": {},
   "cell_type": "markdown",
   "metadata": {},
   "source": [
    "### Pytorch3D"
   ]
  },
  {
   "cell_type": "code",
   "execution_count": 8,
   "metadata": {},
   "outputs": [
    {
     "data": {
      "text/plain": [
       "(64, 64, 64)"
      ]
     },
     "execution_count": 8,
     "metadata": {},
     "output_type": "execute_result"
    }
   ],
   "source": [
    "img.shape"
   ]
  },
  {
   "cell_type": "code",
   "execution_count": 9,
   "metadata": {},
   "outputs": [
    {
     "data": {
      "text/plain": [
       "torch.Size([64, 64, 64])"
      ]
     },
     "execution_count": 9,
     "metadata": {},
     "output_type": "execute_result"
    }
   ],
   "source": [
    "img_tensor = torch.from_numpy(img)\n",
    "img_tensor.shape"
   ]
  },
  {
   "cell_type": "code",
   "execution_count": 13,
   "metadata": {},
   "outputs": [],
   "source": [
    "from pytorch3d.transforms import RotateAxisAngle, Rotate, random_rotations\n",
    "\n",
    "x = torch.rand(64, 64, 3)\n",
    "trot = RotateAxisAngle(angle=90, axis=\"Z\", degrees=True)\n",
    "x2 = trot.transform_points(x)\n",
    "#emb2 ,feat = classifier(x2)\n",
    "#inemb1 = trot.transform_points(emb)\n",
    "#print (emb2-inemb1)\n",
    "#print(emb2)"
   ]
  },
  {
   "attachments": {},
   "cell_type": "markdown",
   "metadata": {},
   "source": [
    "### SciPy"
   ]
  },
  {
   "cell_type": "code",
   "execution_count": 36,
   "metadata": {},
   "outputs": [],
   "source": [
    "import numpy as np\n",
    "from scipy.ndimage import rotate\n",
    "\n",
    "# Assuming you have a 64x64x64 MRI volume stored in a numpy array called \"volume\"\n",
    "\n",
    "# Specify the rotation angle in degrees\n",
    "rotation_angle = 45\n",
    "\n",
    "# Compute the rotation in radians\n",
    "rotation_angle_rad = np.deg2rad(rotation_angle)\n",
    "\n",
    "# Perform the rotation using the rotate function\n",
    "rotated_volume = rotate(img, rotation_angle, axes=(0, 2), reshape=False)\n",
    "\n",
    "# Note: The \"axes\" argument specifies the axes along which the rotation is performed.\n",
    "# In this example, we are rotating along the first and second axes (axes 0 and 1),\n",
    "# which correspond to the X and Y dimensions of the volume, respectively.\n",
    "\n",
    "# The resulting rotated_volume will be a new numpy array with the rotated MRI volume."
   ]
  },
  {
   "cell_type": "code",
   "execution_count": 110,
   "metadata": {},
   "outputs": [
    {
     "data": {
      "image/png": "[encoded data removed]",
      "text/plain": [
       "<Figure size 640x480 with 1 Axes>"
      ]
     },
     "metadata": {},
     "output_type": "display_data"
    }
   ],
   "source": [
    "medutils.visualization.show(img[5])"
   ]
  },
  {
   "cell_type": "code",
   "execution_count": 111,
   "metadata": {},
   "outputs": [
    {
     "data": {
      "image/png": "[encoded data removed]",
      "text/plain": [
       "<Figure size 640x480 with 1 Axes>"
      ]
     },
     "metadata": {},
     "output_type": "display_data"
    }
   ],
   "source": [
    "# ----- visualize volume -----\n",
    "medutils.visualization.show(rotated_volume[5])\n",
    "#medutils.visualization.show(img)\n",
    "#plt.show()"
   ]
  },
  {
   "cell_type": "code",
   "execution_count": 37,
   "metadata": {},
   "outputs": [
    {
     "name": "stdout",
     "output_type": "stream",
     "text": [
      "Transformations perserve SO3 equivariance!\n"
     ]
    }
   ],
   "source": [
    "# Specify the rotation angle in degrees\n",
    "rotation_angle = 90\n",
    "# Compute the rotation in radians\n",
    "rotation_angle_rad = np.deg2rad(rotation_angle)\n",
    "\n",
    "rotation_axes = (0, 1)\n",
    "\n",
    "\n",
    "linear_layer = Linear(in_features=3, out_features=3, bias=False)\n",
    "\n",
    "# Define the input data\n",
    "input_data = torch.tensor([[1, 2, 3],\n",
    "                            [4, 5, 6]], dtype=torch.float)\n",
    "\n",
    "# Define the linear layer\n",
    "#linear_layer = Linear(in_features=3, out_features=3, bias=False)\n",
    "# Initialize the weight matrix of the linear layer\n",
    "eye_(linear_layer.weight)\n",
    "\n",
    "# Apply the rotation to both input and output data\n",
    "rotated_input = rotate(input_data, rotation_angle, axes=rotation_axes, reshape=False)\n",
    "rotated_input = torch.from_numpy(rotated_input)\n",
    "\n",
    "rotated_output = linear_layer(rotated_input)\n",
    "\n",
    "# Apply the rotation only to the input data and pass it through the linear layer\n",
    "output = linear_layer(input_data).detach().numpy()\n",
    "\n",
    "output_after_rotation = rotate(output, rotation_angle, axes=rotation_axes, reshape=False)\n",
    "output_after_rotation = torch.from_numpy(output_after_rotation)\n",
    "\n",
    "# Compare the results\n",
    "if torch.allclose(rotated_output, output_after_rotation):\n",
    "    print(\"Transformations perserve SO3 equivariance!\")\n",
    "else:\n",
    "    print(\"Transformations do not perserve SO3 equivariance!!!\")"
   ]
  },
  {
   "cell_type": "code",
   "execution_count": 38,
   "metadata": {},
   "outputs": [
    {
     "name": "stdout",
     "output_type": "stream",
     "text": [
      "Transformations perserve SO3 equivariance!\n"
     ]
    }
   ],
   "source": [
    "# Specify the rotation angle in degrees\n",
    "rotation_angle = 90\n",
    "# Compute the rotation in radians\n",
    "rotation_angle_rad = np.deg2rad(rotation_angle)\n",
    "\n",
    "rotation_axes = (0, 1)\n",
    "\n",
    "\n",
    "linear_layer = Linear(in_features=3, out_features=3, bias=False)\n",
    "\n",
    "# Define the input data\n",
    "input_data = torch.tensor([[1, 2, 3]], dtype=torch.float)\n",
    "\n",
    "# Define the linear layer\n",
    "#linear_layer = Linear(in_features=3, out_features=3, bias=False)\n",
    "# Initialize the weight matrix of the linear layer\n",
    "eye_(linear_layer.weight)\n",
    "\n",
    "# Apply the rotation to both input and output data\n",
    "rotated_input = rotate(input_data, rotation_angle, axes=rotation_axes, reshape=False)\n",
    "rotated_input = torch.from_numpy(rotated_input)\n",
    "\n",
    "rotated_output = linear_layer(rotated_input)\n",
    "\n",
    "# Apply the rotation only to the input data and pass it through the linear layer\n",
    "output = linear_layer(input_data).detach().numpy()\n",
    "\n",
    "output_after_rotation = rotate(output, rotation_angle, axes=rotation_axes, reshape=False)\n",
    "output_after_rotation = torch.from_numpy(output_after_rotation)\n",
    "\n",
    "# Compare the results\n",
    "if torch.allclose(rotated_output, output_after_rotation):\n",
    "    print(\"Transformations perserve SO3 equivariance!\")\n",
    "else:\n",
    "    print(\"Transformations do not perserve SO3 equivariance!!!\")"
   ]
  },
  {
   "attachments": {},
   "cell_type": "markdown",
   "metadata": {},
   "source": [
    "Test with actual MRI volume and different input/output sizes"
   ]
  },
  {
   "cell_type": "code",
   "execution_count": 39,
   "metadata": {},
   "outputs": [
    {
     "name": "stdout",
     "output_type": "stream",
     "text": [
      "Transformations perserve SO3 equivariance!\n"
     ]
    }
   ],
   "source": [
    "# Specify the rotation angle in degrees\n",
    "rotation_angle = 90\n",
    "# Compute the rotation in radians\n",
    "rotation_angle_rad = np.deg2rad(rotation_angle)\n",
    "\n",
    "rotation_axes = (0, 1)\n",
    "\n",
    "input_img = torch.tensor(img, dtype=torch.float)\n",
    "#input_img = img\n",
    "\n",
    "# Define the linear layer\n",
    "linear_layer = Linear(in_features=64, out_features=4, bias=False)\n",
    "# Initialize the weight matrix of the linear layer\n",
    "eye_(linear_layer.weight)\n",
    "\n",
    "# Apply the rotation to both input and output data\n",
    "rotated_input = rotate(input_img, rotation_angle, axes=rotation_axes, reshape=False)\n",
    "rotated_input = torch.tensor(rotated_input, dtype=torch.float)\n",
    "\n",
    "rotated_output = linear_layer(rotated_input)\n",
    "\n",
    "# Apply the rotation only to the input data and pass it through the linear layer\n",
    "output = linear_layer(input_img).detach().numpy()\n",
    "\n",
    "output_after_rotation = rotate(output, rotation_angle, axes=rotation_axes, reshape=False)\n",
    "output_after_rotation = torch.from_numpy(output_after_rotation)\n",
    "\n",
    "# Compare the results\n",
    "if torch.allclose(rotated_output, output_after_rotation):\n",
    "    print(\"Transformations perserve SO3 equivariance!\")\n",
    "else:\n",
    "    print(\"Transformations do not perserve SO3 equivariance!!!\")"
   ]
  },
  {
   "cell_type": "code",
   "execution_count": 39,
   "metadata": {},
   "outputs": [
    {
     "data": {
      "text/plain": [
       "torch.Size([64, 64, 64])"
      ]
     },
     "execution_count": 39,
     "metadata": {},
     "output_type": "execute_result"
    }
   ],
   "source": [
    "rotated_input.shape"
   ]
  },
  {
   "cell_type": "code",
   "execution_count": 40,
   "metadata": {},
   "outputs": [
    {
     "data": {
      "text/plain": [
       "(64, 64, 4)"
      ]
     },
     "execution_count": 40,
     "metadata": {},
     "output_type": "execute_result"
    }
   ],
   "source": [
    "output.shape"
   ]
  },
  {
   "attachments": {},
   "cell_type": "markdown",
   "metadata": {},
   "source": [
    "issue with using the scipy rotate fucntion directly, no control over selection of rotation matrix!"
   ]
  },
  {
   "cell_type": "code",
   "execution_count": 41,
   "metadata": {},
   "outputs": [
    {
     "data": {
      "image/png": "[encoded data removed]",
      "text/plain": [
       "<Figure size 640x480 with 1 Axes>"
      ]
     },
     "metadata": {},
     "output_type": "display_data"
    }
   ],
   "source": [
    "# ----- visualize volume -----\n",
    "medutils.visualization.show(rotated_input[5])\n",
    "#medutils.visualization.show(img)\n",
    "#plt.show()"
   ]
  },
  {
   "attachments": {},
   "cell_type": "markdown",
   "metadata": {},
   "source": [
    "### Rotation as in PyTorch Data Augmentations"
   ]
  },
  {
   "cell_type": "code",
   "execution_count": 56,
   "metadata": {},
   "outputs": [
    {
     "data": {
      "text/plain": [
       "Ellipsis"
      ]
     },
     "execution_count": 56,
     "metadata": {},
     "output_type": "execute_result"
    }
   ],
   "source": [
    "..."
   ]
  },
  {
   "cell_type": "code",
   "execution_count": null,
   "metadata": {},
   "outputs": [],
   "source": [
    "rotation_axes = (0, 1)\n",
    "\n",
    "# Define the input data\n",
    "input_data = torch.tensor([[1, 2, 3],\n",
    "                            [4, 5, 6]], dtype=torch.float)\n",
    "\n",
    "# Define the linear layer\n",
    "linear_layer = Linear(in_features=3, out_features=3, bias=False)\n",
    "# Initialize the weight matrix of the linear layer\n",
    "eye_(linear_layer.weight)\n",
    "\n",
    "# Apply the rotation to both input and output data\n",
    "...\n",
    "\n",
    "rotated_output = linear_layer(rotated_input)\n",
    "\n",
    "# Apply the rotation only to the input data and pass it through the linear layer\n",
    "output = linear_layer(input_data).detach().numpy()\n",
    "\n",
    "...\n",
    "output_after_rotation = torch.from_numpy(output_after_rotation)\n",
    "\n",
    "# Compare the results\n",
    "if torch.allclose(rotated_output, output_after_rotation):\n",
    "    print(\"Transformations perserve SO3 equivariance!\")\n",
    "else:\n",
    "    print(\"Transformations do not perserve SO3 equivariance!!!\")"
   ]
  },
  {
   "attachments": {},
   "cell_type": "markdown",
   "metadata": {},
   "source": [
    "### Custom implementation of SciPy"
   ]
  },
  {
   "cell_type": "code",
   "execution_count": 7,
   "metadata": {},
   "outputs": [],
   "source": [
    "from scipy import special\n",
    "from scipy.ndimage import affine_transform\n",
    "import itertools\n",
    "\n",
    "from scipy.ndimage import _ni_support\n",
    "\n",
    "\n",
    "def generate_rotation_matrix(angle):\n",
    "    c, s = special.cosdg(angle), special.sindg(angle)\n",
    "    return np.array([[c, s], [-s, c]])\n",
    "\n",
    "\n",
    "def rotate_custom(input, rot_matrix, axes=(1, 0), reshape=True, output=None, order=3,\n",
    "           mode='constant', cval=0.0, prefilter=True, verbose=False):\n",
    "    input_arr = np.asarray(input)\n",
    "    ndim = input_arr.ndim\n",
    "    axes = list(axes)\n",
    "\n",
    "    # some safe checks\n",
    "    if ndim < 2:\n",
    "        print('Danger! input array should be at least 2D')\n",
    "        input_arr = np.expand_dims(input_arr, axis=0)\n",
    "    if len(axes) != 2:\n",
    "        raise ValueError('axes should contain exactly two values')\n",
    "    if not all([float(ax).is_integer() for ax in axes]):\n",
    "        raise ValueError('axes should contain only integer values')\n",
    "    \n",
    "    # safe guard for negative axes for reverse indexing\n",
    "    if axes[0] < 0:\n",
    "        axes[0] += ndim\n",
    "    if axes[1] < 0:\n",
    "        axes[1] += ndim\n",
    "    if axes[0] < 0 or axes[1] < 0 or axes[0] >= ndim or axes[1] >= ndim:\n",
    "        raise ValueError('invalid rotation plane specified')\n",
    "    axes.sort()\n",
    "\n",
    "\n",
    "    img_shape = np.asarray(input_arr.shape)\n",
    "    in_plane_shape = img_shape[axes]\n",
    "\n",
    "\n",
    "    if reshape:\n",
    "        # Compute transformed input bounds\n",
    "        iy, ix = in_plane_shape\n",
    "        out_bounds = rot_matrix @ [[0, 0, iy, iy],\n",
    "                                   [0, ix, 0, ix]]\n",
    "        # Compute the shape of the transformed input plane\n",
    "        out_plane_shape = (out_bounds.ptp(axis=1) + 0.5).astype(int)\n",
    "    else:\n",
    "        out_plane_shape = img_shape[axes]\n",
    "\n",
    "\n",
    "    out_center = rot_matrix @ ((out_plane_shape - 1) / 2)\n",
    "    in_center = (in_plane_shape - 1) / 2\n",
    "    offset = in_center - out_center\n",
    "\n",
    "    output_shape = img_shape\n",
    "    output_shape[axes] = out_plane_shape\n",
    "    output_shape = tuple(output_shape)\n",
    "\n",
    "    output = np.zeros(output_shape, dtype=input_arr.dtype.name)\n",
    "    #complex_output = np.iscomplexobj(input_arr)\n",
    "    #output = _ni_support._get_output(output, input_arr, shape=output_shape,\n",
    "    #                                 complex_output=complex_output)\n",
    "\n",
    "    if ndim == 2:\n",
    "        affine_transform(input_arr, rot_matrix, offset, output_shape, output,\n",
    "                         order, mode, cval, prefilter)\n",
    "    else:\n",
    "        # If ndim > 2, the rotation is applied over all the planes\n",
    "        # parallel to axes\n",
    "        planes_coord = itertools.product(\n",
    "            *[[slice(None)] if ax in axes else range(img_shape[ax])\n",
    "              for ax in range(ndim)])\n",
    "        \n",
    "\n",
    "        out_plane_shape = tuple(out_plane_shape)\n",
    "\n",
    "        for coordinates in planes_coord:\n",
    "            #print(coordinates)\n",
    "            \n",
    "            ia = input_arr[coordinates]\n",
    "            oa = output[coordinates]\n",
    "\n",
    "            affine_transform(ia, rot_matrix, offset, out_plane_shape,\n",
    "                             oa, order, mode, cval, prefilter)\n",
    "\n",
    "            #print(oa)\n",
    "\n",
    "    return output"
   ]
  },
  {
   "cell_type": "code",
   "execution_count": 41,
   "metadata": {},
   "outputs": [],
   "source": [
    "def rotate_custom_angle(input, angle, axes=(1, 0), reshape=True, output=None, order=3,\n",
    "           mode='constant', cval=0.0, prefilter=True, verbose=False):\n",
    "    input_arr = np.asarray(input)\n",
    "    ndim = input_arr.ndim\n",
    "\n",
    "    if ndim < 2:\n",
    "        raise ValueError('input array should be at least 2D')\n",
    "\n",
    "    axes = list(axes)\n",
    "\n",
    "    if len(axes) != 2:\n",
    "        raise ValueError('axes should contain exactly two values')\n",
    "\n",
    "    if not all([float(ax).is_integer() for ax in axes]):\n",
    "        raise ValueError('axes should contain only integer values')\n",
    "\n",
    "    if axes[0] < 0:\n",
    "        axes[0] += ndim\n",
    "    if axes[1] < 0:\n",
    "        axes[1] += ndim\n",
    "    if axes[0] < 0 or axes[1] < 0 or axes[0] >= ndim or axes[1] >= ndim:\n",
    "        raise ValueError('invalid rotation plane specified')\n",
    "\n",
    "    axes.sort()\n",
    "\n",
    "    c, s = special.cosdg(angle), special.sindg(angle)\n",
    "\n",
    "    rot_matrix = np.array([[c, s],\n",
    "                              [-s, c]])\n",
    "\n",
    "    img_shape = np.asarray(input_arr.shape)\n",
    "    in_plane_shape = img_shape[axes]\n",
    "    if reshape:\n",
    "        # Compute transformed input bounds\n",
    "        iy, ix = in_plane_shape\n",
    "        out_bounds = rot_matrix @ [[0, 0, iy, iy],\n",
    "                                   [0, ix, 0, ix]]\n",
    "        # Compute the shape of the transformed input plane\n",
    "        out_plane_shape = (out_bounds.ptp(axis=1) + 0.5).astype(int)\n",
    "    else:\n",
    "        out_plane_shape = img_shape[axes]\n",
    "\n",
    "    out_center = rot_matrix @ ((out_plane_shape - 1) / 2)\n",
    "    in_center = (in_plane_shape - 1) / 2\n",
    "    offset = in_center - out_center\n",
    "\n",
    "    output_shape = img_shape\n",
    "    output_shape[axes] = out_plane_shape\n",
    "    output_shape = tuple(output_shape)\n",
    "\n",
    "    complex_output = np.iscomplexobj(input_arr)\n",
    "    output = _ni_support._get_output(output, input_arr, shape=output_shape,\n",
    "                                     complex_output=complex_output)\n",
    "\n",
    "    if ndim <= 2:\n",
    "        affine_transform(input_arr, rot_matrix, offset, output_shape, output,\n",
    "                         order, mode, cval, prefilter)\n",
    "    else:\n",
    "        # If ndim > 2, the rotation is applied over all the planes\n",
    "        # parallel to axes\n",
    "        planes_coord = itertools.product(\n",
    "            *[[slice(None)] if ax in axes else range(img_shape[ax])\n",
    "              for ax in range(ndim)])\n",
    "\n",
    "        out_plane_shape = tuple(out_plane_shape)\n",
    "\n",
    "        for coordinates in planes_coord:\n",
    "            ia = input_arr[coordinates]\n",
    "            oa = output[coordinates]\n",
    "            affine_transform(ia, rot_matrix, offset, out_plane_shape,\n",
    "                             oa, order, mode, cval, prefilter)\n",
    "\n",
    "    return output\n"
   ]
  },
  {
   "cell_type": "code",
   "execution_count": 14,
   "metadata": {},
   "outputs": [
    {
     "name": "stdout",
     "output_type": "stream",
     "text": [
      "Transformations perserve SO3 equivariance!\n"
     ]
    }
   ],
   "source": [
    "# Specify the rotation angle in degrees\n",
    "rotation_angle = 90\n",
    "# Compute the rotation in radians\n",
    "rotation_angle_rad = np.deg2rad(rotation_angle)\n",
    "rotation_matrix = generate_rotation_matrix(rotation_angle)\n",
    "\n",
    "rotation_axes = (0, 1)\n",
    "\n",
    "\n",
    "linear_layer = Linear(in_features=3, out_features=3, bias=False)\n",
    "\n",
    "# Define the input data\n",
    "input_data = torch.tensor([[1, 2, 3],\n",
    "                            [4, 5, 6]], dtype=torch.float)\n",
    "\n",
    "# Define the linear layer\n",
    "#linear_layer = Linear(in_features=3, out_features=3, bias=False)\n",
    "# Initialize the weight matrix of the linear layer\n",
    "eye_(linear_layer.weight)\n",
    "\n",
    "# Apply the rotation to both input and output data\n",
    "rotated_input = rotate_custom(input_data, rotation_matrix, axes=rotation_axes, reshape=False)\n",
    "rotated_input = torch.from_numpy(rotated_input)\n",
    "\n",
    "rotated_output = linear_layer(rotated_input)\n",
    "\n",
    "# Apply the rotation only to the input data and pass it through the linear layer\n",
    "output = linear_layer(input_data).detach().numpy()\n",
    "\n",
    "output_after_rotation = rotate_custom(output, rotation_matrix, axes=rotation_axes, reshape=False)\n",
    "output_after_rotation = torch.from_numpy(output_after_rotation)\n",
    "\n",
    "# Compare the results\n",
    "if torch.allclose(rotated_output, output_after_rotation):\n",
    "    print(\"Transformations perserve SO3 equivariance!\")\n",
    "else:\n",
    "    print(\"Transformations do not perserve SO3 equivariance!!!\")"
   ]
  },
  {
   "cell_type": "code",
   "execution_count": 20,
   "metadata": {},
   "outputs": [
    {
     "name": "stdout",
     "output_type": "stream",
     "text": [
      "Transformations perserve SO3 equivariance!\n"
     ]
    }
   ],
   "source": [
    "# Specify the rotation angle in degrees\n",
    "rotation_angle = 90\n",
    "# Compute the rotation in radians\n",
    "rotation_angle_rad = np.deg2rad(rotation_angle)\n",
    "rotation_matrix = generate_rotation_matrix(rotation_angle)\n",
    "\n",
    "rotation_axes = (0, 1)\n",
    "\n",
    "input_img = torch.tensor(img, dtype=torch.float)\n",
    "#input_img = img\n",
    "\n",
    "# Define the linear layer\n",
    "linear_layer = Linear(in_features=64, out_features=64, bias=False)\n",
    "# Initialize the weight matrix of the linear layer\n",
    "eye_(linear_layer.weight)\n",
    "\n",
    "# Apply the rotation to both input and output data\n",
    "rotated_input = rotate_custom(input_img, rotation_matrix, axes=rotation_axes, reshape=False)\n",
    "rotated_input = torch.tensor(rotated_input, dtype=torch.float)\n",
    "\n",
    "rotated_output = linear_layer(rotated_input)\n",
    "\n",
    "# Apply the rotation only to the input data and pass it through the linear layer\n",
    "output = linear_layer(input_img).detach().numpy()\n",
    "\n",
    "output_after_rotation = rotate_custom(output, rotation_matrix, axes=rotation_axes, reshape=False)\n",
    "output_after_rotation = torch.from_numpy(output_after_rotation)\n",
    "\n",
    "# Compare the results\n",
    "if torch.allclose(rotated_output, output_after_rotation):\n",
    "    print(\"Transformations perserve SO3 equivariance!\")\n",
    "else:\n",
    "    print(\"Transformations do not perserve SO3 equivariance!!!\")"
   ]
  },
  {
   "cell_type": "code",
   "execution_count": 18,
   "metadata": {},
   "outputs": [
    {
     "name": "stdout",
     "output_type": "stream",
     "text": [
      "Transformations perserve SO3 equivariance!\n"
     ]
    }
   ],
   "source": [
    "# Specify the rotation angle in degrees\n",
    "rotation_angle = 90\n",
    "# Compute the rotation in radians\n",
    "rotation_angle_rad = np.deg2rad(rotation_angle)\n",
    "rotation_matrix = generate_rotation_matrix(rotation_angle)\n",
    "\n",
    "rotation_axes = (0, 1)\n",
    "\n",
    "input_img = torch.tensor(img, dtype=torch.float)\n",
    "#input_img = img\n",
    "\n",
    "# Define the linear layer\n",
    "linear_layer = Linear(in_features=64, out_features=3, bias=False)\n",
    "# Initialize the weight matrix of the linear layer\n",
    "eye_(linear_layer.weight)\n",
    "\n",
    "# Apply the rotation to both input and output data\n",
    "rotated_input = rotate_custom(input_img, rotation_matrix, axes=rotation_axes, reshape=False)\n",
    "rotated_input = torch.tensor(rotated_input, dtype=torch.float)\n",
    "\n",
    "rotated_output = linear_layer(rotated_input)\n",
    "\n",
    "# Apply the rotation only to the input data and pass it through the linear layer\n",
    "output = linear_layer(input_img).detach().numpy()\n",
    "\n",
    "output_after_rotation = rotate_custom(output, rotation_matrix, axes=rotation_axes, reshape=False)\n",
    "output_after_rotation = torch.from_numpy(output_after_rotation)\n",
    "\n",
    "# Compare the results\n",
    "if torch.allclose(rotated_output, output_after_rotation):\n",
    "    print(\"Transformations perserve SO3 equivariance!\")\n",
    "else:\n",
    "    print(\"Transformations do not perserve SO3 equivariance!!!\")"
   ]
  },
  {
   "cell_type": "code",
   "execution_count": 19,
   "metadata": {},
   "outputs": [
    {
     "name": "stdout",
     "output_type": "stream",
     "text": [
      "Input should be rotated by 90 degrees\n"
     ]
    },
    {
     "data": {
      "image/png": "[encoded data removed]",
      "text/plain": [
       "<Figure size 640x480 with 1 Axes>"
      ]
     },
     "metadata": {},
     "output_type": "display_data"
    },
    {
     "data": {
      "image/png": "[encoded data removed]",
      "text/plain": [
       "<Figure size 640x480 with 1 Axes>"
      ]
     },
     "metadata": {},
     "output_type": "display_data"
    }
   ],
   "source": [
    "# ----- visualize volume -----\n",
    "medutils.visualization.show(input_img.numpy()[5])\n",
    "print(f'Input should be rotated by {rotation_angle} degrees')\n",
    "medutils.visualization.show(rotated_input.detach().numpy()[5])"
   ]
  },
  {
   "attachments": {},
   "cell_type": "markdown",
   "metadata": {},
   "source": [
    "Test inverting rotations with matrix transposes\n",
    "\n",
    "-> inverts correctly if in 90 degrees steps, or else filler; visually fine"
   ]
  },
  {
   "cell_type": "code",
   "execution_count": 47,
   "metadata": {},
   "outputs": [
    {
     "name": "stdout",
     "output_type": "stream",
     "text": [
      "Transformations are not inverted correctly!!!\n",
      "Pixel-wise sum of difference between input and inverted: 175616.03125\n"
     ]
    }
   ],
   "source": [
    "# Specify the rotation angle in degrees\n",
    "rotation_angle = 45\n",
    "\n",
    "rotation_axes = (1, 2)\n",
    "\n",
    "input_img = torch.tensor(img, dtype=torch.float)\n",
    "\n",
    "# Apply the rotation to input data\n",
    "rotated_input = rotate_custom_angle(input_img, 45, axes=rotation_axes, reshape=False)\n",
    "rotated_input = torch.tensor(rotated_input, dtype=torch.float)\n",
    "\n",
    "# Invert transformation\n",
    "inverted = rotate_custom_angle(rotated_input, 360-45, axes=rotation_axes, reshape=False)\n",
    "inverted = torch.tensor(inverted, dtype=torch.float)\n",
    "\n",
    "# Compare the results\n",
    "if torch.allclose(input_img, inverted):\n",
    "    print(\"Transformations are inverted correctly!\")\n",
    "else:\n",
    "    print(\"Transformations are not inverted correctly!!!\")\n",
    "\n",
    "diff = input_img - inverted\n",
    "print(f'Pixel-wise sum of difference between input and inverted: {diff.sum()}')"
   ]
  },
  {
   "cell_type": "code",
   "execution_count": 45,
   "metadata": {},
   "outputs": [
    {
     "name": "stdout",
     "output_type": "stream",
     "text": [
      "Transformations are not inverted correctly!!!\n",
      "Pixel-wise sum of difference between input and inverted: 175616.03125\n"
     ]
    }
   ],
   "source": [
    "# Specify the rotation angle in degrees\n",
    "rotation_angle = 45\n",
    "# Compute the rotation in radians\n",
    "rotation_angle_rad = np.deg2rad(rotation_angle)\n",
    "rotation_matrix = generate_rotation_matrix(rotation_angle)\n",
    "\n",
    "rotation_axes = (1, 2)\n",
    "\n",
    "input_img = torch.tensor(img, dtype=torch.float)\n",
    "\n",
    "# Apply the rotation to input data\n",
    "rotated_input = rotate_custom(input_img, rotation_matrix, axes=rotation_axes, reshape=False)\n",
    "rotated_input = torch.tensor(rotated_input, dtype=torch.float)\n",
    "\n",
    "# Invert transformation\n",
    "inverted = rotate_custom(rotated_input, rotation_matrix.T, axes=rotation_axes, reshape=False)\n",
    "inverted = torch.tensor(inverted, dtype=torch.float)\n",
    "\n",
    "# Compare the results\n",
    "if torch.allclose(input_img, inverted):\n",
    "    print(\"Transformations are inverted correctly!\")\n",
    "else:\n",
    "    print(\"Transformations are not inverted correctly!!!\")\n",
    "\n",
    "diff = input_img - inverted\n",
    "print(f'Pixel-wise sum of difference between input and inverted: {diff.sum()}')"
   ]
  },
  {
   "cell_type": "code",
   "execution_count": 50,
   "metadata": {},
   "outputs": [],
   "source": [
    "def normalize(img, vmin=None, vmax=None, max_int=255.0):\n",
    "    \"\"\" normalize (magnitude) image\n",
    "    :param image: input image (np.array)\n",
    "    :param vmin: minimum input intensity value\n",
    "    :param vmax: maximum input intensity value\n",
    "    :param max_int: maximum output intensity value\n",
    "    :return: normalized image\n",
    "    \"\"\"\n",
    "    if np.iscomplexobj(img):\n",
    "        # print('img is complex! Take absolute value.')\n",
    "        img = np.abs(img.copy())\n",
    "    if vmin == None:\n",
    "        vmin = np.min(img)\n",
    "    if vmax == None:\n",
    "        vmax = np.max(img)\n",
    "    img = (img - vmin)*(max_int)/(vmax - vmin)\n",
    "    img = np.minimum(max_int, np.maximum(0.0, img))\n",
    "    return img"
   ]
  },
  {
   "cell_type": "code",
   "execution_count": 54,
   "metadata": {},
   "outputs": [
    {
     "name": "stdout",
     "output_type": "stream",
     "text": [
      "Pixel-wise sum of difference between input and inverted after normalization: -1968342.875\n"
     ]
    }
   ],
   "source": [
    "t1 = normalize(input_img.detach().numpy())\n",
    "t2 = normalize(inverted.detach().numpy())\n",
    "diff_normalized = t1 - t2\n",
    "print(f'Pixel-wise sum of difference between input and inverted after normalization: {diff_normalized.sum()}')"
   ]
  },
  {
   "cell_type": "code",
   "execution_count": 52,
   "metadata": {},
   "outputs": [
    {
     "name": "stdout",
     "output_type": "stream",
     "text": [
      "Input should be rotated by 45 degrees\n"
     ]
    },
    {
     "data": {
      "image/png": "[encoded data removed]",
      "text/plain": [
       "<Figure size 640x480 with 1 Axes>"
      ]
     },
     "metadata": {},
     "output_type": "display_data"
    },
    {
     "data": {
      "image/png": "[encoded data removed]",
      "text/plain": [
       "<Figure size 640x480 with 1 Axes>"
      ]
     },
     "metadata": {},
     "output_type": "display_data"
    }
   ],
   "source": [
    "# ----- visualize volume -----\n",
    "medutils.visualization.show(t1[5])\n",
    "print(f'Input should be rotated by {rotation_angle} degrees')\n",
    "medutils.visualization.show(t2[5])"
   ]
  },
  {
   "attachments": {},
   "cell_type": "markdown",
   "metadata": {},
   "source": [
    "visually ok, since scaled down in show function"
   ]
  },
  {
   "cell_type": "code",
   "execution_count": 49,
   "metadata": {},
   "outputs": [
    {
     "name": "stdout",
     "output_type": "stream",
     "text": [
      "Input should be rotated by 45 degrees\n"
     ]
    },
    {
     "data": {
      "image/png": "[encoded data removed]",
      "text/plain": [
       "<Figure size 640x480 with 1 Axes>"
      ]
     },
     "metadata": {},
     "output_type": "display_data"
    },
    {
     "data": {
      "image/png": "[encoded data removed]",
      "text/plain": [
       "<Figure size 640x480 with 1 Axes>"
      ]
     },
     "metadata": {},
     "output_type": "display_data"
    },
    {
     "data": {
      "image/png": "[encoded data removed]",
      "text/plain": [
       "<Figure size 640x480 with 1 Axes>"
      ]
     },
     "metadata": {},
     "output_type": "display_data"
    }
   ],
   "source": [
    "# ----- visualize volume -----\n",
    "medutils.visualization.show(input_img.numpy()[5])\n",
    "print(f'Input should be rotated by {rotation_angle} degrees')\n",
    "medutils.visualization.show(rotated_input.detach().numpy()[5])\n",
    "medutils.visualization.show(inverted.detach().numpy()[5])"
   ]
  }
 ],
 "metadata": {
  "kernelspec": {
   "display_name": "torch_39",
   "language": "python",
   "name": "python3"
  },
  "language_info": {
   "codemirror_mode": {
    "name": "ipython",
    "version": 3
   },
   "file_extension": ".py",
   "mimetype": "text/x-python",
   "name": "python",
   "nbconvert_exporter": "python",
   "pygments_lexer": "ipython3",
   "version": "3.9.15"
  },
  "orig_nbformat": 4
 },
 "nbformat": 4,
 "nbformat_minor": 2
}
